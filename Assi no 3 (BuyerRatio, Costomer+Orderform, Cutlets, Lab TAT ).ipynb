{
 "cells": [
  {
   "cell_type": "markdown",
   "id": "aad8bcc5",
   "metadata": {},
   "source": [
    "## 1] Buyerratio 2"
   ]
  },
  {
   "cell_type": "code",
   "execution_count": 1,
   "id": "66a42915",
   "metadata": {},
   "outputs": [],
   "source": [
    "import pandas as pd\n",
    "import numpy as np\n",
    "from scipy import stats"
   ]
  },
  {
   "cell_type": "markdown",
   "id": "42c301b9",
   "metadata": {},
   "source": [
    "## Problem statement "
   ]
  },
  {
   "cell_type": "raw",
   "id": "9e028560",
   "metadata": {},
   "source": [
    "Sales of products in four different regions is tabulated for males and females. Find if male-female buyer rations are similar across regions"
   ]
  },
  {
   "cell_type": "markdown",
   "id": "9bc7cadf",
   "metadata": {},
   "source": [
    "## 1 -  Business Problem"
   ]
  },
  {
   "cell_type": "markdown",
   "id": "e5abcab8",
   "metadata": {},
   "source": [
    "##Is the male-female buyer rations are similar across regions"
   ]
  },
  {
   "cell_type": "markdown",
   "id": "818477fe",
   "metadata": {},
   "source": [
    "## 2 - Data description"
   ]
  },
  {
   "cell_type": "raw",
   "id": "0a901eb0",
   "metadata": {},
   "source": [
    " α == 0.05 (95% Confidence)\n",
    " Y == Discrete\n",
    "X == Discrete\n",
    "\n",
    "Since there are more than 2 variable we will perform Chi-Square test"
   ]
  },
  {
   "cell_type": "markdown",
   "id": "bbecc47d",
   "metadata": {},
   "source": [
    "## 3 - Chi-Square Test "
   ]
  },
  {
   "cell_type": "code",
   "execution_count": 2,
   "id": "2209a269",
   "metadata": {},
   "outputs": [],
   "source": [
    "df = pd.read_csv(r\"E:\\assignment\\Assignment no 3\\BuyerRatio (2).csv\")"
   ]
  },
  {
   "cell_type": "code",
   "execution_count": 3,
   "id": "e77af339",
   "metadata": {},
   "outputs": [
    {
     "data": {
      "text/html": [
       "<div>\n",
       "<style scoped>\n",
       "    .dataframe tbody tr th:only-of-type {\n",
       "        vertical-align: middle;\n",
       "    }\n",
       "\n",
       "    .dataframe tbody tr th {\n",
       "        vertical-align: top;\n",
       "    }\n",
       "\n",
       "    .dataframe thead th {\n",
       "        text-align: right;\n",
       "    }\n",
       "</style>\n",
       "<table border=\"1\" class=\"dataframe\">\n",
       "  <thead>\n",
       "    <tr style=\"text-align: right;\">\n",
       "      <th></th>\n",
       "      <th>Observed Values</th>\n",
       "      <th>East</th>\n",
       "      <th>West</th>\n",
       "      <th>North</th>\n",
       "      <th>South</th>\n",
       "    </tr>\n",
       "  </thead>\n",
       "  <tbody>\n",
       "    <tr>\n",
       "      <th>0</th>\n",
       "      <td>Males</td>\n",
       "      <td>50</td>\n",
       "      <td>142</td>\n",
       "      <td>131</td>\n",
       "      <td>70</td>\n",
       "    </tr>\n",
       "    <tr>\n",
       "      <th>1</th>\n",
       "      <td>Females</td>\n",
       "      <td>435</td>\n",
       "      <td>1523</td>\n",
       "      <td>1356</td>\n",
       "      <td>750</td>\n",
       "    </tr>\n",
       "  </tbody>\n",
       "</table>\n",
       "</div>"
      ],
      "text/plain": [
       "  Observed Values  East  West  North  South\n",
       "0           Males    50   142    131     70\n",
       "1         Females   435  1523   1356    750"
      ]
     },
     "execution_count": 3,
     "metadata": {},
     "output_type": "execute_result"
    }
   ],
   "source": [
    "df"
   ]
  },
  {
   "cell_type": "raw",
   "id": "e8267515",
   "metadata": {},
   "source": [
    "H0 == The male-female buyer rations are similar across regions\n",
    "H1 == The male-female buyer rations are not similar across regions"
   ]
  },
  {
   "cell_type": "code",
   "execution_count": 4,
   "id": "ef2293c9",
   "metadata": {},
   "outputs": [
    {
     "data": {
      "text/plain": [
       "(1.5959455386610577,\n",
       " 0.6603094907091882,\n",
       " 3,\n",
       " array([[  42.76531299,  442.23468701],\n",
       "        [ 146.81287862, 1518.18712138],\n",
       "        [ 131.11756787, 1355.88243213],\n",
       "        [  72.30424052,  747.69575948]]))"
      ]
     },
     "execution_count": 4,
     "metadata": {},
     "output_type": "execute_result"
    }
   ],
   "source": [
    "stats.chi2_contingency([df[\"East\"], df[\"West\"], df[\"North\"], df[\"South\"]])"
   ]
  },
  {
   "cell_type": "raw",
   "id": "b5a70390",
   "metadata": {},
   "source": [
    "P value of Chi-Square test == 0.66 > α"
   ]
  },
  {
   "cell_type": "markdown",
   "id": "192296b2",
   "metadata": {},
   "source": [
    "## Thus HO is accepted.\n",
    "## The male-female buyer rations are similar across regions\n"
   ]
  },
  {
   "cell_type": "code",
   "execution_count": 6,
   "id": "ee43a3b9",
   "metadata": {},
   "outputs": [],
   "source": [
    "import pandas as pd \n",
    "import numpy as np\n",
    "from scipy import stats"
   ]
  },
  {
   "cell_type": "markdown",
   "id": "b35a950e",
   "metadata": {},
   "source": [
    "## 2] Costomer+Orderform"
   ]
  },
  {
   "cell_type": "markdown",
   "id": "b76259b3",
   "metadata": {},
   "source": [
    "## problem staterment :\n",
    " TeleCall uses 4 centers around the globe to process customer order forms. They audit a certain % of the customer order forms. Any error in order form renders it defective and has to be reworked before processing. The manager wants to check whether the defective % varies by centre. Please analyze the data at 5% significance level and help the manager draw appropriate inferences\n",
    "\n",
    "## 1 - Business Problem\n",
    " Does the defective % varies significantly by centre ?\n",
    "\n",
    "## 2 - Data description\n",
    "α == 0.05 (95% Confidence)\n",
    "\n",
    "Y == Discrete X == Discrete\n",
    "\n",
    "Since there are more than 2 variable we will perform Chi-Square test\n",
    "\n",
    "## 3 - Chi-Square Test"
   ]
  },
  {
   "cell_type": "code",
   "execution_count": 7,
   "id": "45ff0b03",
   "metadata": {},
   "outputs": [],
   "source": [
    "df = pd.read_csv(r\"E:\\assignment\\Assignment no 3\\Costomer+OrderForm (1).csv\")"
   ]
  },
  {
   "cell_type": "markdown",
   "id": "4e4d3eca",
   "metadata": {},
   "source": [
    "H0 == The defective % does not varies by centre\n",
    "H1 == The defective % does varies by centre"
   ]
  },
  {
   "cell_type": "code",
   "execution_count": 10,
   "id": "0e84edbd",
   "metadata": {},
   "outputs": [
    {
     "data": {
      "text/plain": [
       "(3.8589606858203545,\n",
       " 0.2771020991233144,\n",
       " 3,\n",
       " array([[271.75,  28.25],\n",
       "        [271.75,  28.25],\n",
       "        [271.75,  28.25],\n",
       "        [271.75,  28.25]]))"
      ]
     },
     "execution_count": 10,
     "metadata": {},
     "output_type": "execute_result"
    }
   ],
   "source": [
    "stats.chi2_contingency([df['Phillippines'].value_counts(), df['Indonesia'].value_counts(), df['Malta'].value_counts(),df['India'].value_counts()])"
   ]
  },
  {
   "cell_type": "markdown",
   "id": "38bbb20b",
   "metadata": {},
   "source": [
    "P value of Chi-Square test == 0.277 > α"
   ]
  },
  {
   "cell_type": "markdown",
   "id": "5a394c6d",
   "metadata": {},
   "source": [
    "## Thus HO is accepted.\n",
    "## The defective % does not varies significantly by centres¶"
   ]
  },
  {
   "cell_type": "markdown",
   "id": "a752b6b5",
   "metadata": {},
   "source": [
    "## 3] Cutlets"
   ]
  },
  {
   "cell_type": "markdown",
   "id": "283013b0",
   "metadata": {},
   "source": [
    "import pandas as pd \n",
    "import numpy as np\n",
    "from scipy import stats"
   ]
  },
  {
   "cell_type": "markdown",
   "id": "4bcd831a",
   "metadata": {},
   "source": [
    "## Problem Statement:\n",
    "A F&B manager wants to determine whether there is any significant difference in the diameter of the cutlet between two units. A randomly selected sample of cutlets was collected from both units and measured? Analyze the data and draw inferences at 5% significance level. Please state the assumptions and tests that you carried out to check validity of the assumptions\n",
    "\n",
    "## 1 - Business Problem\n",
    "Is there significant difference in the diameter of the cutlet ?\n",
    "\n",
    "## 2 - Data description\n",
    "α == 0.05 (95% Confidence)\n",
    "\n",
    "Y == Continious X == Discrete\n",
    "\n",
    "Is Y1 and Y2 normal ?\n",
    "\n",
    "H0 = Y1 and Y2 are normal\n",
    "\n",
    "H1 = Y1 and Y2 are not normal\n",
    "\n",
    "## 3 - Normality Test¶"
   ]
  },
  {
   "cell_type": "code",
   "execution_count": 13,
   "id": "6fc9b120",
   "metadata": {},
   "outputs": [],
   "source": [
    "df = pd.read_csv(r\"E:\\assignment\\Assignment no 3\\Cutlets (1).csv\")"
   ]
  },
  {
   "cell_type": "code",
   "execution_count": 14,
   "id": "32736381",
   "metadata": {},
   "outputs": [
    {
     "data": {
      "text/plain": [
       "ShapiroResult(statistic=0.9649458527565002, pvalue=0.3199819028377533)"
      ]
     },
     "execution_count": 14,
     "metadata": {},
     "output_type": "execute_result"
    }
   ],
   "source": [
    "stats.shapiro (df[\"Unit A\"])"
   ]
  },
  {
   "cell_type": "markdown",
   "id": "509c2e4b",
   "metadata": {},
   "source": [
    "P value for Unit A == 0.32 > α"
   ]
  },
  {
   "cell_type": "code",
   "execution_count": 15,
   "id": "c26f025c",
   "metadata": {},
   "outputs": [
    {
     "data": {
      "text/plain": [
       "ShapiroResult(statistic=0.9727300405502319, pvalue=0.5224985480308533)"
      ]
     },
     "execution_count": 15,
     "metadata": {},
     "output_type": "execute_result"
    }
   ],
   "source": [
    "stats.shapiro (df[\"Unit B\"])"
   ]
  },
  {
   "cell_type": "markdown",
   "id": "65171ac7",
   "metadata": {},
   "source": [
    "P value for Unit B == 0.52 > α"
   ]
  },
  {
   "cell_type": "markdown",
   "id": "1cd36519",
   "metadata": {},
   "source": [
    "### HO is accepted. Thats is both Y1 and Y2 are normal¶\n",
    "## 4 - External Condition\n",
    "### External Condition are same.\n",
    "### Thus we can perform paired T Test\n",
    "## 5 - Model\n",
    "H0 == Mean for Y1 and Y2 are equal (There is no significance difference between diameter of the Culets) H1 == Mean for Y1 and Y2 are not equal (There is a significance difference between diameter of the Culets)"
   ]
  },
  {
   "cell_type": "code",
   "execution_count": 16,
   "id": "cfdfcbfd",
   "metadata": {},
   "outputs": [
    {
     "data": {
      "text/plain": [
       "Ttest_relResult(statistic=0.7536787225614314, pvalue=0.4562300768038412)"
      ]
     },
     "execution_count": 16,
     "metadata": {},
     "output_type": "execute_result"
    }
   ],
   "source": [
    "stats.ttest_rel(df[\"Unit A\"], df[\"Unit B\"])"
   ]
  },
  {
   "cell_type": "markdown",
   "id": "a0c43962",
   "metadata": {},
   "source": [
    "Ttest_relResult(statistic=0.7536787225614323, pvalue=0.45623007680384076) P value of the Paired T Test is == 0.45 > α\n",
    "\n",
    "## Thus H0 is accepted.\n",
    "## Mean of both Y1 and Y2 are equal"
   ]
  },
  {
   "cell_type": "markdown",
   "id": "d232dc6f",
   "metadata": {},
   "source": [
    "## 4] LabTAT"
   ]
  },
  {
   "cell_type": "code",
   "execution_count": 17,
   "id": "aa729f67",
   "metadata": {},
   "outputs": [],
   "source": [
    "import pandas as pd\n",
    "import numpy as np\n",
    "from scipy import stats"
   ]
  },
  {
   "cell_type": "markdown",
   "id": "ac3bfebe",
   "metadata": {},
   "source": [
    "## Problem Statement :\n",
    "A hospital wants to determine whether there is any difference in the average Turn Around Time (TAT) of reports of the laboratories on their preferred list. They collected a random sample and recorded TAT for reports of 4 laboratories. TAT is defined as sample collected to report dispatch\n",
    "\n",
    "Analyze the data and determine whether there is any difference in average TAT among the different laboratories at 5% significance level\n",
    "\n",
    "## 1 - Business Problem\n",
    "Is there a significant difference in the average Turn Around Time between laboratories ?\n",
    "\n",
    "## 2 - Data description\n",
    "α == 0.05 (95% Confidence)\n",
    "\n",
    "Y == Continious X == Discrete\n",
    "\n",
    "Is Y1, Y2, Y3 and Y4 normal ?\n",
    "\n",
    "H0 = Y1, Y2, Y3 and Y4 are normal\n",
    "\n",
    "H1 = Y1, Y2, Y3 and Y4 are not normal\n",
    "\n",
    "## 3 - Normality Test"
   ]
  },
  {
   "cell_type": "code",
   "execution_count": 18,
   "id": "86a39aa2",
   "metadata": {},
   "outputs": [],
   "source": [
    "df = pd.read_csv(r\"E:\\assignment\\Assignment no 3\\LabTAT.csv\")"
   ]
  },
  {
   "cell_type": "code",
   "execution_count": 19,
   "id": "21199666",
   "metadata": {},
   "outputs": [
    {
     "data": {
      "text/plain": [
       "ShapiroResult(statistic=0.9901824593544006, pvalue=0.5506953597068787)"
      ]
     },
     "execution_count": 19,
     "metadata": {},
     "output_type": "execute_result"
    }
   ],
   "source": [
    "stats.shapiro(df[\"Laboratory 1\"])"
   ]
  },
  {
   "cell_type": "code",
   "execution_count": 20,
   "id": "4c5fd914",
   "metadata": {},
   "outputs": [
    {
     "data": {
      "text/plain": [
       "ShapiroResult(statistic=0.9936322569847107, pvalue=0.8637524843215942)"
      ]
     },
     "execution_count": 20,
     "metadata": {},
     "output_type": "execute_result"
    }
   ],
   "source": [
    "stats.shapiro(df[\"Laboratory 2\"])"
   ]
  },
  {
   "cell_type": "code",
   "execution_count": 21,
   "id": "3663e7eb",
   "metadata": {},
   "outputs": [
    {
     "data": {
      "text/plain": [
       "ShapiroResult(statistic=0.9886345267295837, pvalue=0.4205053448677063)"
      ]
     },
     "execution_count": 21,
     "metadata": {},
     "output_type": "execute_result"
    }
   ],
   "source": [
    "stats.shapiro(df[\"Laboratory 3\"])"
   ]
  },
  {
   "cell_type": "code",
   "execution_count": 22,
   "id": "520307ed",
   "metadata": {},
   "outputs": [
    {
     "data": {
      "text/plain": [
       "ShapiroResult(statistic=0.9913753271102905, pvalue=0.6618951559066772)"
      ]
     },
     "execution_count": 22,
     "metadata": {},
     "output_type": "execute_result"
    }
   ],
   "source": [
    "stats.shapiro(df[\"Laboratory 4\"])"
   ]
  },
  {
   "cell_type": "markdown",
   "id": "3effeddf",
   "metadata": {},
   "source": [
    "## HO is accepted. Thats is Y1, Y2, Y3, and Y4 are normal\n",
    "## 4 - Variance\n",
    "H0 == Variance of all 4 laboratories are the same\n",
    "\n",
    "H1 == Variance of all 4 laboratories are the not same"
   ]
  },
  {
   "cell_type": "code",
   "execution_count": 23,
   "id": "af71e9ce",
   "metadata": {},
   "outputs": [
    {
     "data": {
      "text/plain": [
       "LeveneResult(statistic=2.599642500418024, pvalue=0.05161343808309816)"
      ]
     },
     "execution_count": 23,
     "metadata": {},
     "output_type": "execute_result"
    }
   ],
   "source": [
    "stats.levene(df[\"Laboratory 1\"], df[\"Laboratory 2\"], df[\"Laboratory 3\"], df[\"Laboratory 4\"])"
   ]
  },
  {
   "cell_type": "markdown",
   "id": "822e9729",
   "metadata": {},
   "source": [
    "### H0 is accepted\n",
    "### Thus we will perform one way Anova Test\n",
    "## 5 - Model\n",
    "H0 == Mean TAT for 4 laboratories equal (There is no significance difference between TAT of the laboratories) H1 == Mean TAT for 4 laboratories not equal (There is a significance difference between TAT of the laboratories)"
   ]
  },
  {
   "cell_type": "code",
   "execution_count": 24,
   "id": "c21d0162",
   "metadata": {},
   "outputs": [
    {
     "data": {
      "text/plain": [
       "F_onewayResult(statistic=118.70421654401437, pvalue=2.1156708949992414e-57)"
      ]
     },
     "execution_count": 24,
     "metadata": {},
     "output_type": "execute_result"
    }
   ],
   "source": [
    "stats.stats.f_oneway(df[\"Laboratory 1\"], df[\"Laboratory 2\"], df[\"Laboratory 3\"], df[\"Laboratory 4\"])"
   ]
  },
  {
   "cell_type": "markdown",
   "id": "d5eb9637",
   "metadata": {},
   "source": [
    "F_onewayResult(statistic=118.70421654401437, pvalue=2.1156708949992414e-57) P value of the One way Anova test is == 2e-16 < α\n",
    "\n",
    "## Thus H1 is accepted.\n",
    "## Mean TAT for 4 laboratories not equal (There is a significance difference between TAT of the laboratories)¶"
   ]
  },
  {
   "cell_type": "code",
   "execution_count": null,
   "id": "fef9d0e0",
   "metadata": {},
   "outputs": [],
   "source": []
  }
 ],
 "metadata": {
  "kernelspec": {
   "display_name": "Python 3 (ipykernel)",
   "language": "python",
   "name": "python3"
  },
  "language_info": {
   "codemirror_mode": {
    "name": "ipython",
    "version": 3
   },
   "file_extension": ".py",
   "mimetype": "text/x-python",
   "name": "python",
   "nbconvert_exporter": "python",
   "pygments_lexer": "ipython3",
   "version": "3.9.12"
  }
 },
 "nbformat": 4,
 "nbformat_minor": 5
}
